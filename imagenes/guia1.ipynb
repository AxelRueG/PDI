{
 "cells": [
  {
   "cell_type": "markdown",
   "id": "7d7f392e",
   "metadata": {},
   "source": [
    "# Guia 1"
   ]
  },
  {
   "cell_type": "code",
   "execution_count": null,
   "id": "6645eedb",
   "metadata": {},
   "outputs": [],
   "source": []
  }
 ],
 "metadata": {
  "language_info": {
   "name": "python"
  }
 },
 "nbformat": 4,
 "nbformat_minor": 5
}
